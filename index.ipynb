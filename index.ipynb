{
 "cells": [
  {
   "cell_type": "code",
   "execution_count": 80,
   "metadata": {},
   "outputs": [],
   "source": [
    "# Importing the required libraries\n",
    "import pandas as pd\n",
    "from bs4 import BeautifulSoup\n",
    "import numpy as np\n",
    "import requests\n",
    "import pprint"
   ]
  },
  {
   "cell_type": "code",
   "execution_count": 10,
   "metadata": {},
   "outputs": [],
   "source": [
    "response = requests.get(\"https://news.ycombinator.com\")\n",
    "soup = BeautifulSoup(response.text, 'html.parser')"
   ]
  },
  {
   "cell_type": "code",
   "execution_count": 11,
   "metadata": {},
   "outputs": [
    {
     "data": {
      "text/plain": [
       "<a href=\"https://www.nytimes.com/2024/03/01/science/daddy-long-legs-eyes.html\">A daddy-longlegs possesses six eyes, including two vestigial pairs</a>"
      ]
     },
     "execution_count": 11,
     "metadata": {},
     "output_type": "execute_result"
    }
   ],
   "source": [
    "links = soup.select('.titleline')\n",
    "links[0].find('a')"
   ]
  },
  {
   "cell_type": "code",
   "execution_count": 51,
   "metadata": {},
   "outputs": [
    {
     "data": {
      "text/plain": [
       "[<span class=\"score\" id=\"score_39561492\">39 points</span>]"
      ]
     },
     "execution_count": 51,
     "metadata": {},
     "output_type": "execute_result"
    }
   ],
   "source": [
    "subtext = soup.select('.subtext')  #this will extract the votes for each title of news\n",
    "subtext[0].select('.score')"
   ]
  },
  {
   "cell_type": "code",
   "execution_count": 28,
   "metadata": {},
   "outputs": [
    {
     "data": {
      "text/plain": [
       "'https://www.nytimes.com/2024/03/01/science/daddy-long-legs-eyes.html'"
      ]
     },
     "execution_count": 28,
     "metadata": {},
     "output_type": "execute_result"
    }
   ],
   "source": [
    "str(links[0].find('a')).split('\"')[1] #testing to see the output"
   ]
  },
  {
   "cell_type": "code",
   "execution_count": 52,
   "metadata": {},
   "outputs": [
    {
     "data": {
      "text/plain": [
       "['https://www.nytimes.com/2024/03/01/science/daddy-long-legs-eyes.html',\n",
       " 'https://cgad.ski/blog/where-is-noethers-principle-in-machine-learning.html',\n",
       " 'https://jsr.io',\n",
       " 'https://cloudinary.com/blog/jpeg-xl-and-the-pareto-front',\n",
       " 'https://www.mistys-internet.website/blog/blog/2024/03/01/that-time-i-accidentally-deleted-a-game-from-mame/',\n",
       " 'https://www.brendangregg.com/ColonyGraphs/cloud.html',\n",
       " 'https://lamplightdev.com/blog/2024/01/10/streaming-html-out-of-order-without-javascript/',\n",
       " 'https://theins.ru/en/politics/269612',\n",
       " 'https://academic.oup.com/mnras/article/528/4/6568/7596572',\n",
       " 'https://www.wabe.org/the-atlanta-magnet-man-is-saving-our-car-tires-one-bike-ride-at-a-time/',\n",
       " 'https://cacm.acm.org/news/cacm-is-now-open-access-2/',\n",
       " 'https://www.collabora.com/news-and-blog/news-and-events/nvk-is-now-ready-for-prime-time.html',\n",
       " 'https://struct.ai/blog/introducing-the-struct-chat-platform',\n",
       " 'https://jobs.lever.co/photoroom/fb70ca3c-632f-4b1b-b6e2-004f0240011d?lever-origin=applied&amp;lever-source%5B%5D=yc',\n",
       " 'https://tratt.net/laurie/blog/2024/some_reflections_on_writing_unix_daemons.html',\n",
       " 'https://www.adamgrant.info/tiny-predictive-text',\n",
       " 'https://www.smithsonianmag.com/travel/via-ferratas-are-finally-catching-on-in-the-united-states-180983855/',\n",
       " 'https://apps.apple.com/us/app/offlinellm/id6478590762',\n",
       " 'https://github.com/Eventual-Inc/Daft',\n",
       " 'https://www.historytoday.com/archive/out-margins/beware-lides-march',\n",
       " 'https://nicf.net/articles/curvature-of-polyhedra/',\n",
       " 'https://vickiboykis.com/2024/02/28/gguf-the-long-way-around/',\n",
       " 'https://en.wikipedia.org/wiki/Antarctic_English',\n",
       " 'https://www.micahlerner.com/2023/07/23/defcon-preventing-overload-with-graceful-feature-degradation.html',\n",
       " 'https://people.eecs.berkeley.edu/~matei/papers/2013/sosp_sparrow.pdf',\n",
       " 'item?id=39560509',\n",
       " 'https://gaultier.github.io/blog/you_inherited_a_legacy_cpp_codebase_now_what.html',\n",
       " 'https://ff8isthe.best/2024/02/the-game-magazine-that-spent-two-years-taunting-a-final-fantasy-viii-hater/',\n",
       " 'https://chriscoyier.net/2024/02/28/where-im-at-on-the-whole-css-tricks-thing/',\n",
       " 'https://www.bitsaboutmoney.com/archive/financial-systems-take-a-holiday/']"
      ]
     },
     "execution_count": 52,
     "metadata": {},
     "output_type": "execute_result"
    }
   ],
   "source": [
    "# looping over the links element to find the links for each news headline\n",
    "def get_href():\n",
    "    hrefs=[]\n",
    "    for link in links:\n",
    "        href = str(link.find('a', None)).split('\"')[1]\n",
    "        hrefs.append(href)\n",
    "    return hrefs\n",
    "\n",
    "hrefs = get_href()\n",
    "hrefs"
   ]
  },
  {
   "cell_type": "code",
   "execution_count": 103,
   "metadata": {},
   "outputs": [
    {
     "name": "stdout",
     "output_type": "stream",
     "text": [
      "[{'link': 'https://en.wikipedia.org/wiki/Antarctic_English',\n",
      "  'title': 'Antarctic English (wikipedia.org)',\n",
      "  'votes': 318},\n",
      " {'link': 'https://gaultier.github.io/blog/you_inherited_a_legacy_cpp_codebase_now_what.html',\n",
      "  'title': \"You've just inherited a legacy C++ codebase, now what? \"\n",
      "           '(gaultier.github.io)',\n",
      "  'votes': 297},\n",
      " {'link': 'https://cloudinary.com/blog/jpeg-xl-and-the-pareto-front',\n",
      "  'title': 'JPEG XL and the Pareto Front (cloudinary.com)',\n",
      "  'votes': 276},\n",
      " {'link': 'https://struct.ai/blog/introducing-the-struct-chat-platform',\n",
      "  'title': 'Show HN: Struct – A Feed-Centric Chat Platform (struct.ai)',\n",
      "  'votes': 254},\n",
      " {'link': 'https://chriscoyier.net/2024/02/28/where-im-at-on-the-whole-css-tricks-thing/',\n",
      "  'title': \"Where I'm at on the whole CSS-Tricks thing (chriscoyier.net)\",\n",
      "  'votes': 233},\n",
      " {'link': 'https://vickiboykis.com/2024/02/28/gguf-the-long-way-around/',\n",
      "  'title': 'GGUF, the Long Way Around (vickiboykis.com)',\n",
      "  'votes': 219},\n",
      " {'link': 'https://www.micahlerner.com/2023/07/23/defcon-preventing-overload-with-graceful-feature-degradation.html',\n",
      "  'title': 'Defcon: Preventing overload with graceful feature degradation '\n",
      "           '(2023) (micahlerner.com)',\n",
      "  'votes': 213},\n",
      " {'link': 'https://cacm.acm.org/news/cacm-is-now-open-access-2/',\n",
      "  'title': 'CACM Is Now Open Access (acm.org)',\n",
      "  'votes': 206}]\n"
     ]
    }
   ],
   "source": [
    "# creating a function that gets the votes, titles and the links to the stories\n",
    "# as well as sorts the stories according to the number of votes\n",
    "def sort_news(News_list):\n",
    "    return sorted(News_list, key=lambda k:k['votes'], reverse=True)\n",
    "\n",
    "\n",
    "def create_custom_hn(links, subtext):\n",
    "    hn = []\n",
    "    #looping to get the text only from the links element\n",
    "    for idx, item in enumerate(links):\n",
    "        title = links[idx].getText()\n",
    "        href = hrefs[idx]\n",
    "        vote = subtext[idx].select('.score')\n",
    "        if len(vote):\n",
    "            points = int(vote[0].getText().replace(' points', ''))\n",
    "            if points>200:\n",
    "                hn.append({\"votes\":points, \"title\":title,\"link\":href})\n",
    "       \n",
    "    return sort_news(hn)\n",
    "\n",
    "pprint.pprint(create_custom_hn(links, subtext))\n"
   ]
  },
  {
   "cell_type": "code",
   "execution_count": 104,
   "metadata": {},
   "outputs": [
    {
     "data": {
      "text/html": [
       "<div>\n",
       "<style scoped>\n",
       "    .dataframe tbody tr th:only-of-type {\n",
       "        vertical-align: middle;\n",
       "    }\n",
       "\n",
       "    .dataframe tbody tr th {\n",
       "        vertical-align: top;\n",
       "    }\n",
       "\n",
       "    .dataframe thead th {\n",
       "        text-align: right;\n",
       "    }\n",
       "</style>\n",
       "<table border=\"1\" class=\"dataframe\">\n",
       "  <thead>\n",
       "    <tr style=\"text-align: right;\">\n",
       "      <th></th>\n",
       "      <th>votes</th>\n",
       "      <th>title</th>\n",
       "      <th>link</th>\n",
       "    </tr>\n",
       "  </thead>\n",
       "  <tbody>\n",
       "    <tr>\n",
       "      <th>0</th>\n",
       "      <td>318</td>\n",
       "      <td>Antarctic English (wikipedia.org)</td>\n",
       "      <td>https://en.wikipedia.org/wiki/Antarctic_English</td>\n",
       "    </tr>\n",
       "    <tr>\n",
       "      <th>1</th>\n",
       "      <td>297</td>\n",
       "      <td>You've just inherited a legacy C++ codebase, n...</td>\n",
       "      <td>https://gaultier.github.io/blog/you_inherited_...</td>\n",
       "    </tr>\n",
       "    <tr>\n",
       "      <th>2</th>\n",
       "      <td>276</td>\n",
       "      <td>JPEG XL and the Pareto Front (cloudinary.com)</td>\n",
       "      <td>https://cloudinary.com/blog/jpeg-xl-and-the-pa...</td>\n",
       "    </tr>\n",
       "    <tr>\n",
       "      <th>3</th>\n",
       "      <td>254</td>\n",
       "      <td>Show HN: Struct – A Feed-Centric Chat Platform...</td>\n",
       "      <td>https://struct.ai/blog/introducing-the-struct-...</td>\n",
       "    </tr>\n",
       "    <tr>\n",
       "      <th>4</th>\n",
       "      <td>233</td>\n",
       "      <td>Where I'm at on the whole CSS-Tricks thing (ch...</td>\n",
       "      <td>https://chriscoyier.net/2024/02/28/where-im-at...</td>\n",
       "    </tr>\n",
       "    <tr>\n",
       "      <th>5</th>\n",
       "      <td>219</td>\n",
       "      <td>GGUF, the Long Way Around (vickiboykis.com)</td>\n",
       "      <td>https://vickiboykis.com/2024/02/28/gguf-the-lo...</td>\n",
       "    </tr>\n",
       "    <tr>\n",
       "      <th>6</th>\n",
       "      <td>213</td>\n",
       "      <td>Defcon: Preventing overload with graceful feat...</td>\n",
       "      <td>https://www.micahlerner.com/2023/07/23/defcon-...</td>\n",
       "    </tr>\n",
       "    <tr>\n",
       "      <th>7</th>\n",
       "      <td>206</td>\n",
       "      <td>CACM Is Now Open Access (acm.org)</td>\n",
       "      <td>https://cacm.acm.org/news/cacm-is-now-open-acc...</td>\n",
       "    </tr>\n",
       "  </tbody>\n",
       "</table>\n",
       "</div>"
      ],
      "text/plain": [
       "   votes                                              title  \\\n",
       "0    318                  Antarctic English (wikipedia.org)   \n",
       "1    297  You've just inherited a legacy C++ codebase, n...   \n",
       "2    276      JPEG XL and the Pareto Front (cloudinary.com)   \n",
       "3    254  Show HN: Struct – A Feed-Centric Chat Platform...   \n",
       "4    233  Where I'm at on the whole CSS-Tricks thing (ch...   \n",
       "5    219        GGUF, the Long Way Around (vickiboykis.com)   \n",
       "6    213  Defcon: Preventing overload with graceful feat...   \n",
       "7    206                  CACM Is Now Open Access (acm.org)   \n",
       "\n",
       "                                                link  \n",
       "0    https://en.wikipedia.org/wiki/Antarctic_English  \n",
       "1  https://gaultier.github.io/blog/you_inherited_...  \n",
       "2  https://cloudinary.com/blog/jpeg-xl-and-the-pa...  \n",
       "3  https://struct.ai/blog/introducing-the-struct-...  \n",
       "4  https://chriscoyier.net/2024/02/28/where-im-at...  \n",
       "5  https://vickiboykis.com/2024/02/28/gguf-the-lo...  \n",
       "6  https://www.micahlerner.com/2023/07/23/defcon-...  \n",
       "7  https://cacm.acm.org/news/cacm-is-now-open-acc...  "
      ]
     },
     "execution_count": 104,
     "metadata": {},
     "output_type": "execute_result"
    }
   ],
   "source": [
    "# creating a dataframe of the news data\n",
    "df = pd.DataFrame(create_custom_hn(links, subtext))\n",
    "df"
   ]
  },
  {
   "cell_type": "code",
   "execution_count": 105,
   "metadata": {},
   "outputs": [],
   "source": [
    "# Writing the DataFrame to a CSV file\n",
    "df.to_csv('News.csv', index=False)"
   ]
  },
  {
   "cell_type": "code",
   "execution_count": null,
   "metadata": {},
   "outputs": [],
   "source": []
  }
 ],
 "metadata": {
  "kernelspec": {
   "display_name": "Python 3",
   "language": "python",
   "name": "python3"
  },
  "language_info": {
   "codemirror_mode": {
    "name": "ipython",
    "version": 3
   },
   "file_extension": ".py",
   "mimetype": "text/x-python",
   "name": "python",
   "nbconvert_exporter": "python",
   "pygments_lexer": "ipython3",
   "version": "3.8.5"
  }
 },
 "nbformat": 4,
 "nbformat_minor": 4
}
