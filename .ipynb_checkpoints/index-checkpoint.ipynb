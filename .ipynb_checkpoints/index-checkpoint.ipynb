{
 "cells": [
  {
   "cell_type": "code",
   "execution_count": 6,
   "metadata": {},
   "outputs": [],
   "source": [
    "# Importing the required libraries\n",
    "import pandas as pd\n",
    "from bs4 import BeautifulSoup\n",
    "import numpy as np\n",
    "import requests"
   ]
  },
  {
   "cell_type": "code",
   "execution_count": 7,
   "metadata": {},
   "outputs": [],
   "source": [
    "response = requests.get(\"https://news.ycombinator.com\")\n",
    "soup = BeautifulSoup(response.text, 'html.parser')"
   ]
  },
  {
   "cell_type": "code",
   "execution_count": 131,
   "metadata": {},
   "outputs": [
    {
     "data": {
      "text/plain": [
       "<a href=\"https://www.micahlerner.com/2023/07/23/defcon-preventing-overload-with-graceful-feature-degradation.html\">Defcon: Preventing Overload with Graceful Feature Degradation</a>"
      ]
     },
     "execution_count": 131,
     "metadata": {},
     "output_type": "execute_result"
    }
   ],
   "source": [
    "links = soup.select('.titleline')\n",
    "links[0].find('a')"
   ]
  },
  {
   "cell_type": "code",
   "execution_count": 132,
   "metadata": {},
   "outputs": [
    {
     "data": {
      "text/plain": [
       "'68 points'"
      ]
     },
     "execution_count": 132,
     "metadata": {},
     "output_type": "execute_result"
    }
   ],
   "source": [
    "votes = soup.select('.score')\n",
    "votes[0].text"
   ]
  },
  {
   "cell_type": "code",
   "execution_count": 135,
   "metadata": {},
   "outputs": [
    {
     "data": {
      "text/plain": [
       "['Defcon: Preventing Overload with Graceful Feature Degradation (micahlerner.com)',\n",
       " 'GGUF, the Long Way Around (vickiboykis.com)',\n",
       " 'Functional Ownership Through Fractional Uniqueness (arxiv.org)',\n",
       " 'Financial systems take a holiday (bitsaboutmoney.com)',\n",
       " 'Enlightenment Is a Window Manager, Compositor and Minimal Desktop for Linux (enlightenment.org)',\n",
       " 'Serving my blog posts as Linux manual pages (jamesg.blog)',\n",
       " 'Antarctic English (wikipedia.org)',\n",
       " 'A lock-free ring-buffer with contiguous reservations (2019) (ferrous-systems.com)',\n",
       " \"'Entropy bagels' and other complex structures emerge from simple rules (quantamagazine.org)\",\n",
       " 'Indexed Types for a Statically Safe WebAssembly [pdf] (williamjbowman.com)',\n",
       " \"You've just inherited a legacy C++ codebase, now what? (gaultier.github.io)\",\n",
       " 'Unearthing the oldest forest on Earth (worldsensorium.com)',\n",
       " 'Show HN: Workout Tracker – self-hosted, single binary web application (github.com/jovandeginste)',\n",
       " 'The KDE desktop gets an overhaul with Plasma 6 (lwn.net)',\n",
       " '\"Dune\" and the delicate art of making fictional languages (newyorker.com)',\n",
       " 'Learn CSS layout the pedantic way (2015) (mixu.net)',\n",
       " 'Big Post About Big Context (gonzoml.substack.com)',\n",
       " 'Can we get more decentralised than the Fediverse? (gist.github.com)',\n",
       " 'Rendering protein structures inside cells at the atomic level with Unreal Engine (biorxiv.org)',\n",
       " 'Shave and a Haircut (wikipedia.org)',\n",
       " \"Neurosurgeon pioneers Alzheimer's, addiction treatments using ultrasound [video] (youtube.com)\",\n",
       " 'A Social History of Jell-O Salad (2023) (seriouseats.com)',\n",
       " 'Learning to be managed (medium.com/theholy7)',\n",
       " 'Ford EVs gain access to Tesla Superchargers starting today (arstechnica.com)',\n",
       " 'How video games use lookup tables (frost.kiwi)',\n",
       " 'The Emmy Computer Algebra System (github.com/mentat-collective)',\n",
       " 'Things You Should Never Do, Part I [never rewrite software from scratch] (joelonsoftware.com)',\n",
       " 'Attacks on Anonymity Systems: The Theory (2003) (github.com/dicklesworthstone)',\n",
       " 'Heinz’s sustainable ketchup cap (lumafield.com)',\n",
       " 'The Buckland Review of Autism Employment (gov.uk)']"
      ]
     },
     "execution_count": 135,
     "metadata": {},
     "output_type": "execute_result"
    }
   ],
   "source": [
    "# creating a function that gets the titles and the links of the most important news\n",
    "def create_custom_hn(links, votes):\n",
    "    hn = []\n",
    "    #looping to get the text only from the links element\n",
    "    for idx, item in enumerate(links):\n",
    "        title = links[idx].getText()\n",
    "        href = links[idx].get('href', None)\n",
    "        hn.append(title)\n",
    "    return hn\n",
    "\n",
    "create_custom_hn(links, votes)"
   ]
  },
  {
   "cell_type": "code",
   "execution_count": 149,
   "metadata": {},
   "outputs": [
    {
     "data": {
      "text/plain": [
       "'https://www.micahlerner.com/2023/07/23/defcon-preventing-overload-with-graceful-feature-degradation.html'"
      ]
     },
     "execution_count": 149,
     "metadata": {},
     "output_type": "execute_result"
    }
   ],
   "source": [
    "str(links[0].find('a')).split('\"')[1]"
   ]
  },
  {
   "cell_type": "code",
   "execution_count": null,
   "metadata": {},
   "outputs": [],
   "source": []
  }
 ],
 "metadata": {
  "kernelspec": {
   "display_name": "Python 3",
   "language": "python",
   "name": "python3"
  },
  "language_info": {
   "codemirror_mode": {
    "name": "ipython",
    "version": 3
   },
   "file_extension": ".py",
   "mimetype": "text/x-python",
   "name": "python",
   "nbconvert_exporter": "python",
   "pygments_lexer": "ipython3",
   "version": "3.8.5"
  }
 },
 "nbformat": 4,
 "nbformat_minor": 4
}
